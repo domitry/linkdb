{
 "cells": [
  {
   "cell_type": "code",
   "execution_count": 1,
   "metadata": {
    "collapsed": false
   },
   "outputs": [
    {
     "data": {
      "text/html": [
       "<script type='text/javascript'>if(window['d3'] === undefined ||\n",
       "   window['Nyaplot'] === undefined){\n",
       "    var path = {\"d3\":\"https://cdnjs.cloudflare.com/ajax/libs/d3/3.5.5/d3.min\",\"downloadable\":\"http://cdn.rawgit.com/domitry/d3-downloadable/master/d3-downloadable\"};\n",
       "\n",
       "\n",
       "\n",
       "    var shim = {\"d3\":{\"exports\":\"d3\"},\"downloadable\":{\"exports\":\"downloadable\"}};\n",
       "\n",
       "    require.config({paths: path, shim:shim});\n",
       "\n",
       "\n",
       "require(['d3'], function(d3){window['d3']=d3;console.log('finished loading d3');require(['downloadable'], function(downloadable){window['downloadable']=downloadable;console.log('finished loading downloadable');\n",
       "\n",
       "\tvar script = d3.select(\"head\")\n",
       "\t    .append(\"script\")\n",
       "\t    .attr(\"src\", \"http://cdn.rawgit.com/domitry/Nyaplotjs/master/release/nyaplot.js\")\n",
       "\t    .attr(\"async\", true);\n",
       "\n",
       "\tscript[0][0].onload = script[0][0].onreadystatechange = function(){\n",
       "\n",
       "\n",
       "\t    var event = document.createEvent(\"HTMLEvents\");\n",
       "\t    event.initEvent(\"load_nyaplot\",false,false);\n",
       "\t    window.dispatchEvent(event);\n",
       "\t    console.log('Finished loading Nyaplotjs');\n",
       "\n",
       "\t};\n",
       "\n",
       "\n",
       "});});\n",
       "}\n",
       "</script>"
      ],
      "text/plain": [
       "\"if(window['d3'] === undefined ||\\n   window['Nyaplot'] === undefined){\\n    var path = {\\\"d3\\\":\\\"https://cdnjs.cloudflare.com/ajax/libs/d3/3.5.5/d3.min\\\",\\\"downloadable\\\":\\\"http://cdn.rawgit.com/domitry/d3-downloadable/master/d3-downloadable\\\"};\\n\\n\\n\\n    var shim = {\\\"d3\\\":{\\\"exports\\\":\\\"d3\\\"},\\\"downloadable\\\":{\\\"exports\\\":\\\"downloadable\\\"}};\\n\\n    require.config({paths: path, shim:shim});\\n\\n\\nrequire(['d3'], function(d3){window['d3']=d3;console.log('finished loading d3');require(['downloadable'], function(downloadable){window['downloadable']=downloadable;console.log('finished loading downloadable');\\n\\n\\tvar script = d3.select(\\\"head\\\")\\n\\t    .append(\\\"script\\\")\\n\\t    .attr(\\\"src\\\", \\\"http://cdn.rawgit.com/domitry/Nyaplotjs/master/release/nyaplot.js\\\")\\n\\t    .attr(\\\"async\\\", true);\\n\\n\\tscript[0][0].onload = script[0][0].onreadystatechange = function(){\\n\\n\\n\\t    var event = document.createEvent(\\\"HTMLEvents\\\");\\n\\t    event.initEvent(\\\"load_nyaplot\\\",false,false);\\n\\t    window.dispatchEvent(event);\\n\\t    console.log('Finished loading Nyaplotjs');\\n\\n\\t};\\n\\n\\n});});\\n}\\n\""
      ]
     },
     "execution_count": 1,
     "metadata": {},
     "output_type": "execute_result"
    },
    {
     "data": {
      "text/plain": [
       "true"
      ]
     },
     "execution_count": 1,
     "metadata": {},
     "output_type": "execute_result"
    }
   ],
   "source": [
    "require 'linkdb'"
   ]
  },
  {
   "cell_type": "code",
   "execution_count": 2,
   "metadata": {
    "collapsed": false
   },
   "outputs": [
    {
     "data": {
      "text/html": [
       "<html><table><tr><td></td><th>name</th><th>type</th><th>option</th></tr><tr><th>0</th><td>hsa:127</td><td>RG002:008518058</td><td>reverse</td></tr><tr><th>1</th><td>hsa:127</td><td>br:br08301</td><td>reverse</td></tr><tr><th>2</th><td>hsa:127</td><td>br:br08303</td><td>reverse</td></tr><tr><th>3</th><td>hsa:127</td><td>br:br08310</td><td>reverse</td></tr><tr><th>4</th><td>hsa:127</td><td>br:hsa00001</td><td>original</td></tr><tr><th>5</th><td>hsa:127</td><td>br:hsa01000</td><td>original</td></tr><tr><th>6</th><td>hsa:127</td><td>brc-dna:HGY094945</td><td>reverse</td></tr><tr><th>7</th><td>hsa:127</td><td>cpd:C00001</td><td>indirect</td></tr><tr><th>8</th><td>hsa:127</td><td>cpd:C00003</td><td>indirect</td></tr><tr><th>9</th><td>hsa:127</td><td>cpd:C00004</td><td>indirect</td></tr><tr><th>10</th><td>hsa:127</td><td>cpd:C00071</td><td>indirect</td></tr><tr><th>11</th><td>hsa:127</td><td>cpd:C00080</td><td>indirect</td></tr><tr><th>12</th><td>hsa:127</td><td>cpd:C00084</td><td>indirect</td></tr><tr><th>13</th><td>hsa:127</td><td>cpd:C00226</td><td>indirect</td></tr><tr><th>14</th><td>hsa:127</td><td>cpd:C00376</td><td>indirect</td></tr><tr><th>15</th><td>hsa:127</td><td>cpd:C00469</td><td>indirect</td></tr><tr><th>16</th><td>hsa:127</td><td>cpd:C00473</td><td>indirect</td></tr><tr><th>17</th><td>hsa:127</td><td>cpd:C05576</td><td>indirect</td></tr><tr><th>18</th><td>hsa:127</td><td>cpd:C05577</td><td>indirect</td></tr><tr><th>19</th><td>hsa:127</td><td>cpd:C06899</td><td>indirect</td></tr><tr><th>20</th><td>hsa:127</td><td>cpd:C07490</td><td>indirect</td></tr><tr><th>21</th><td>hsa:127</td><td>cpd:C07645</td><td>indirect</td></tr><tr><th>22</th><td>hsa:127</td><td>cpd:C16551</td><td>indirect</td></tr><tr><th>23</th><td>hsa:127</td><td>cpd:C16586</td><td>indirect</td></tr><tr><th>24</th><td>hsa:127</td><td>cpd:C16587</td><td>indirect</td></tr><tr><th>25</th><td>hsa:127</td><td>cpd:C16595</td><td>indirect</td></tr><tr><th>26</th><td>hsa:127</td><td>cpd:C16596</td><td>indirect</td></tr><tr><th>27</th><td>hsa:127</td><td>dr:D00707</td><td>original</td></tr><tr><th>28</th><td>hsa:127</td><td>ec:1.1.1.1</td><td>original</td></tr><tr><th>29</th><td>hsa:127</td><td>emb:AK290835</td><td>equivalent</td></tr><tr><th>30</th><td>hsa:127</td><td>emb:AK295556</td><td>equivalent</td></tr><tr><th>31</th><td>hsa:127</td><td>emb:AK313649</td><td>equivalent</td></tr><tr><th>32</th><td>hsa:127</td><td>emb:AV658711</td><td>equivalent</td></tr><tr><th>33</th><td>hsa:127</td><td>emb:AV659353</td><td>equivalent</td></tr><tr><th>34</th><td>hsa:127</td><td>emb:AV659364</td><td>equivalent</td></tr><tr><th>35</th><td>hsa:127</td><td>emb:BC022319</td><td>equivalent</td></tr><tr><th>36</th><td>hsa:127</td><td>emb:CD014080</td><td>equivalent</td></tr><tr><th>37</th><td>hsa:127</td><td>emb:EU668317</td><td>equivalent</td></tr><tr><th>38</th><td>hsa:127</td><td>emb:HQ447691</td><td>equivalent</td></tr><tr><th>39</th><td>hsa:127</td><td>emb:M15943</td><td>equivalent</td></tr><tr><th>40</th><td>hsa:127</td><td>ensembl-hsa:ENSG00000198099</td><td>original</td></tr><tr><th>41</th><td>hsa:127</td><td>gb:AK290835</td><td>equivalent</td></tr><tr><th>42</th><td>hsa:127</td><td>gb:AK295556</td><td>equivalent</td></tr><tr><th>43</th><td>hsa:127</td><td>gb:AK313649</td><td>equivalent</td></tr><tr><th>44</th><td>hsa:127</td><td>gb:AV658711</td><td>equivalent</td></tr><tr><th>45</th><td>hsa:127</td><td>gb:AV659353</td><td>equivalent</td></tr><tr><th>46</th><td>hsa:127</td><td>gb:AV659364</td><td>equivalent</td></tr><tr><th>47</th><td>hsa:127</td><td>gb:BC022319</td><td>equivalent</td></tr><tr><th>48</th><td>hsa:127</td><td>gb:CD014080</td><td>equivalent</td></tr><tr><th>49</th><td>hsa:127</td><td>gb:EU668317</td><td>equivalent</td></tr><tr><th>50</th><td>hsa:127</td><td>gb:HQ447691</td><td>equivalent</td></tr><tr><th>...</th><td>...</td><td>...</td><td>...</td></tr><tr><th>99</th><td>hsa:127</td><td>vega:OTTHUMG00000161227</td><td>original</td></tr></table>"
      ],
      "text/plain": [
       "#<Mikon::DataFrame:0x0000000355f750 @labels=[:name, :type, :option], @data=[#<Mikon::DArray:0x0000000355f278 @data=[\"hsa:127\", \"hsa:127\", \"hsa:127\", \"hsa:127\", \"hsa:127\", \"hsa:127\", \"hsa:127\", \"hsa:127\", \"hsa:127\", \"hsa:127\", \"hsa:127\", \"hsa:127\", \"hsa:127\", \"hsa:127\", \"hsa:127\", \"hsa:127\", \"hsa:127\", \"hsa:127\", \"hsa:127\", \"hsa:127\", \"hsa:127\", \"hsa:127\", \"hsa:127\", \"hsa:127\", \"hsa:127\", \"hsa:127\", \"hsa:127\", \"hsa:127\", \"hsa:127\", \"hsa:127\", \"hsa:127\", \"hsa:127\", \"hsa:127\", \"hsa:127\", \"hsa:127\", \"hsa:127\", \"hsa:127\", \"hsa:127\", \"hsa:127\", \"hsa:127\", \"hsa:127\", \"hsa:127\", \"hsa:127\", \"hsa:127\", \"hsa:127\", \"hsa:127\", \"hsa:127\", \"hsa:127\", \"hsa:127\", \"hsa:127\", \"hsa:127\", \"hsa:127\", \"hsa:127\", \"hsa:127\", \"hsa:127\", \"hsa:127\", \"hsa:127\", \"hsa:127\", \"hsa:127\", \"hsa:127\", \"hsa:127\", \"hsa:127\", \"hsa:127\", \"hsa:127\", \"hsa:127\", \"hsa:127\", \"hsa:127\", \"hsa:127\", \"hsa:127\", \"hsa:127\", \"hsa:127\", \"hsa:127\", \"hsa:127\", \"hsa:127\", \"hsa:127\", \"hsa:127\", \"hsa:127\", \"hsa:127\", \"hsa:127\", \"hsa:127\", \"hsa:127\", \"hsa:127\", \"hsa:127\", \"hsa:127\", \"hsa:127\", \"hsa:127\", \"hsa:127\", \"hsa:127\", \"hsa:127\", \"hsa:127\", \"hsa:127\", \"hsa:127\", \"hsa:127\", \"hsa:127\", \"hsa:127\", \"hsa:127\", \"hsa:127\", \"hsa:127\", \"hsa:127\", \"hsa:127\"], @dtype=:object>, #<Mikon::DArray:0x0000000355f0e8 @data=[\"RG002:008518058\", \"br:br08301\", \"br:br08303\", \"br:br08310\", \"br:hsa00001\", \"br:hsa01000\", \"brc-dna:HGY094945\", \"cpd:C00001\", \"cpd:C00003\", \"cpd:C00004\", \"cpd:C00071\", \"cpd:C00080\", \"cpd:C00084\", \"cpd:C00226\", \"cpd:C00376\", \"cpd:C00469\", \"cpd:C00473\", \"cpd:C05576\", \"cpd:C05577\", \"cpd:C06899\", \"cpd:C07490\", \"cpd:C07645\", \"cpd:C16551\", \"cpd:C16586\", \"cpd:C16587\", \"cpd:C16595\", \"cpd:C16596\", \"dr:D00707\", \"ec:1.1.1.1\", \"emb:AK290835\", \"emb:AK295556\", \"emb:AK313649\", \"emb:AV658711\", \"emb:AV659353\", \"emb:AV659364\", \"emb:BC022319\", \"emb:CD014080\", \"emb:EU668317\", \"emb:HQ447691\", \"emb:M15943\", \"ensembl-hsa:ENSG00000198099\", \"gb:AK290835\", \"gb:AK295556\", \"gb:AK313649\", \"gb:AV658711\", \"gb:AV659353\", \"gb:AV659364\", \"gb:BC022319\", \"gb:CD014080\", \"gb:EU668317\", \"gb:HQ447691\", \"gb:M15943\", \"genome:T01001\", \"hgnc:252\", \"hprd:00068\", \"ko:K13980\", \"ncbi-geneid:127\", \"ncbi-proteinid:NP_000661\", \"oc:OC.33597\", \"omim:103740\", \"path:hsa00010\", \"path:hsa00071\", \"path:hsa00350\", \"path:hsa00830\", \"path:hsa00980\", \"path:hsa00982\", \"path:hsa01100\", \"path:hsa05204\", \"pdb:3COS\", \"pf:PF00085\", \"pf:PF00107\", \"pf:PF03721\", \"pf:PF08240\", \"pf:PF13602\", \"rn:R00623\", \"rn:R00754\", \"rn:R02124\", \"rn:R04880\", \"rn:R07105\", \"rn:R08281\", \"rn:R08306\", \"rn:R08310\", \"rs:NM_000670\", \"rs:NM_001306171\", \"rs:NM_001306172\", \"rs:NP_000661\", \"rs:NP_001293100\", \"rs:NP_001293101\", \"rs:XM_011531590\", \"rs:XM_011531591\", \"rs:XP_011529892\", \"rs:XP_011529893\", \"rs:XR_938685\", \"rs:XR_938686\", \"rs:XR_938687\", \"sp:P08319\", \"unigene:Hs.1219\", \"up:P08319\", \"up:V9HVX7\", \"vega:OTTHUMG00000161227\"], @dtype=:object>, #<Mikon::DArray:0x0000000355ee90 @data=[\"reverse\", \"reverse\", \"reverse\", \"reverse\", \"original\", \"original\", \"reverse\", \"indirect\", \"indirect\", \"indirect\", \"indirect\", \"indirect\", \"indirect\", \"indirect\", \"indirect\", \"indirect\", \"indirect\", \"indirect\", \"indirect\", \"indirect\", \"indirect\", \"indirect\", \"indirect\", \"indirect\", \"indirect\", \"indirect\", \"indirect\", \"original\", \"original\", \"equivalent\", \"equivalent\", \"equivalent\", \"equivalent\", \"equivalent\", \"equivalent\", \"equivalent\", \"equivalent\", \"equivalent\", \"equivalent\", \"equivalent\", \"original\", \"equivalent\", \"equivalent\", \"equivalent\", \"equivalent\", \"equivalent\", \"equivalent\", \"equivalent\", \"equivalent\", \"equivalent\", \"equivalent\", \"equivalent\", \"original\", \"original\", \"original\", \"original\", \"equivalent\", \"equivalent\", \"reverse\", \"equivalent\", \"original\", \"original\", \"original\", \"original\", \"original\", \"original\", \"original\", \"original\", \"original\", \"original\", \"original\", \"original\", \"original\", \"original\", \"indirect\", \"indirect\", \"indirect\", \"indirect\", \"indirect\", \"indirect\", \"indirect\", \"indirect\", \"equivalent\", \"equivalent\", \"equivalent\", \"equivalent\", \"equivalent\", \"equivalent\", \"equivalent\", \"equivalent\", \"equivalent\", \"equivalent\", \"original\", \"original\", \"original\", \"equivalent\", \"equivalent\", \"equivalent\", \"equivalent\", \"original\"], @dtype=:object>], @name=\"e62b7af9-feda-45b4-823a-a4ec83ce7145\", @index=[0, 1, 2, 3, 4, 5, 6, 7, 8, 9, 10, 11, 12, 13, 14, 15, 16, 17, 18, 19, 20, 21, 22, 23, 24, 25, 26, 27, 28, 29, 30, 31, 32, 33, 34, 35, 36, 37, 38, 39, 40, 41, 42, 43, 44, 45, 46, 47, 48, 49, 50, 51, 52, 53, 54, 55, 56, 57, 58, 59, 60, 61, 62, 63, 64, 65, 66, 67, 68, 69, 70, 71, 72, 73, 74, 75, 76, 77, 78, 79, 80, 81, 82, 83, 84, 85, 86, 87, 88, 89, 90, 91, 92, 93, 94, 95, 96, 97, 98, 99]>"
      ]
     },
     "execution_count": 2,
     "metadata": {},
     "output_type": "execute_result"
    }
   ],
   "source": [
    "Linkdb.fetch(\"hsa:127\")"
   ]
  },
  {
   "cell_type": "code",
   "execution_count": null,
   "metadata": {
    "collapsed": true
   },
   "outputs": [],
   "source": []
  }
 ],
 "metadata": {
  "kernelspec": {
   "display_name": "Ruby",
   "language": "ruby",
   "name": "ruby"
  },
  "language_info": {
   "name": "ruby",
   "version": "2.1.2"
  }
 },
 "nbformat": 4,
 "nbformat_minor": 0
}
